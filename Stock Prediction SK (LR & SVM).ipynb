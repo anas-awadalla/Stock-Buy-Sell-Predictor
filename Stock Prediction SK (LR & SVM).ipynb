{
 "cells": [
  {
   "cell_type": "code",
   "execution_count": 87,
   "metadata": {},
   "outputs": [
    {
     "name": "stdout",
     "output_type": "stream",
     "text": [
      "Requirement already satisfied: quandl in /Users/anasawadalla/opt/anaconda3/lib/python3.7/site-packages (3.4.8)\n",
      "Requirement already satisfied: pandas>=0.14 in /Users/anasawadalla/opt/anaconda3/lib/python3.7/site-packages (from quandl) (0.25.1)\n",
      "Requirement already satisfied: more-itertools<=5.0.0 in /Users/anasawadalla/opt/anaconda3/lib/python3.7/site-packages (from quandl) (5.0.0)\n",
      "Requirement already satisfied: python-dateutil in /Users/anasawadalla/opt/anaconda3/lib/python3.7/site-packages (from quandl) (2.8.0)\n",
      "Requirement already satisfied: pyOpenSSL in /Users/anasawadalla/opt/anaconda3/lib/python3.7/site-packages (from quandl) (19.0.0)\n",
      "Requirement already satisfied: inflection>=0.3.1 in /Users/anasawadalla/opt/anaconda3/lib/python3.7/site-packages (from quandl) (0.3.1)\n",
      "Requirement already satisfied: ndg-httpsclient in /Users/anasawadalla/opt/anaconda3/lib/python3.7/site-packages (from quandl) (0.5.1)\n",
      "Requirement already satisfied: pyasn1 in /Users/anasawadalla/opt/anaconda3/lib/python3.7/site-packages (from quandl) (0.4.8)\n",
      "Requirement already satisfied: requests>=2.7.0 in /Users/anasawadalla/opt/anaconda3/lib/python3.7/site-packages (from quandl) (2.22.0)\n",
      "Requirement already satisfied: numpy>=1.8 in /Users/anasawadalla/opt/anaconda3/lib/python3.7/site-packages (from quandl) (1.16.4)\n",
      "Requirement already satisfied: six in /Users/anasawadalla/opt/anaconda3/lib/python3.7/site-packages (from quandl) (1.12.0)\n",
      "Requirement already satisfied: pytz>=2017.2 in /Users/anasawadalla/opt/anaconda3/lib/python3.7/site-packages (from pandas>=0.14->quandl) (2019.3)\n",
      "Requirement already satisfied: cryptography>=2.3 in /Users/anasawadalla/opt/anaconda3/lib/python3.7/site-packages (from pyOpenSSL->quandl) (2.7)\n",
      "Requirement already satisfied: urllib3!=1.25.0,!=1.25.1,<1.26,>=1.21.1 in /Users/anasawadalla/opt/anaconda3/lib/python3.7/site-packages (from requests>=2.7.0->quandl) (1.24.2)\n",
      "Requirement already satisfied: certifi>=2017.4.17 in /Users/anasawadalla/opt/anaconda3/lib/python3.7/site-packages (from requests>=2.7.0->quandl) (2019.9.11)\n",
      "Requirement already satisfied: chardet<3.1.0,>=3.0.2 in /Users/anasawadalla/opt/anaconda3/lib/python3.7/site-packages (from requests>=2.7.0->quandl) (3.0.4)\n",
      "Requirement already satisfied: idna<2.9,>=2.5 in /Users/anasawadalla/opt/anaconda3/lib/python3.7/site-packages (from requests>=2.7.0->quandl) (2.8)\n",
      "Requirement already satisfied: asn1crypto>=0.21.0 in /Users/anasawadalla/opt/anaconda3/lib/python3.7/site-packages (from cryptography>=2.3->pyOpenSSL->quandl) (1.0.1)\n",
      "Requirement already satisfied: cffi!=1.11.3,>=1.8 in /Users/anasawadalla/opt/anaconda3/lib/python3.7/site-packages (from cryptography>=2.3->pyOpenSSL->quandl) (1.12.3)\n",
      "Requirement already satisfied: pycparser in /Users/anasawadalla/opt/anaconda3/lib/python3.7/site-packages (from cffi!=1.11.3,>=1.8->cryptography>=2.3->pyOpenSSL->quandl) (2.19)\n"
     ]
    }
   ],
   "source": [
    "!pip install quandl"
   ]
  },
  {
   "cell_type": "code",
   "execution_count": 88,
   "metadata": {},
   "outputs": [],
   "source": [
    "#Install Dependencies \n",
    "import quandl\n",
    "import numpy as np\n",
    "from sklearn.linear_model import LinearRegression\n",
    "from sklearn.svm import SVR\n",
    "from sklearn.model_selection import train_test_split"
   ]
  },
  {
   "cell_type": "code",
   "execution_count": 89,
   "metadata": {},
   "outputs": [
    {
     "name": "stdout",
     "output_type": "stream",
     "text": [
      "             Open   High    Low    Close       Volume  Ex-Dividend  \\\n",
      "Date                                                                 \n",
      "2012-05-18  42.05  45.00  38.00  38.2318  573576400.0          0.0   \n",
      "2012-05-21  36.53  36.66  33.00  34.0300  168192700.0          0.0   \n",
      "2012-05-22  32.61  33.59  30.94  31.0000  101786600.0          0.0   \n",
      "2012-05-23  31.37  32.50  31.36  32.0000   73600000.0          0.0   \n",
      "2012-05-24  32.95  33.21  31.77  33.0300   50237200.0          0.0   \n",
      "\n",
      "            Split Ratio  Adj. Open  Adj. High  Adj. Low  Adj. Close  \\\n",
      "Date                                                                  \n",
      "2012-05-18          1.0      42.05      45.00     38.00     38.2318   \n",
      "2012-05-21          1.0      36.53      36.66     33.00     34.0300   \n",
      "2012-05-22          1.0      32.61      33.59     30.94     31.0000   \n",
      "2012-05-23          1.0      31.37      32.50     31.36     32.0000   \n",
      "2012-05-24          1.0      32.95      33.21     31.77     33.0300   \n",
      "\n",
      "            Adj. Volume  \n",
      "Date                     \n",
      "2012-05-18  573576400.0  \n",
      "2012-05-21  168192700.0  \n",
      "2012-05-22  101786600.0  \n",
      "2012-05-23   73600000.0  \n",
      "2012-05-24   50237200.0  \n"
     ]
    }
   ],
   "source": [
    "#Get Stock Data\n",
    "df = quandl.get(\"WIKI/FB\")\n",
    "# Print data\n",
    "print(df.head())"
   ]
  },
  {
   "cell_type": "code",
   "execution_count": 90,
   "metadata": {},
   "outputs": [
    {
     "name": "stdout",
     "output_type": "stream",
     "text": [
      "            Adj. Close\n",
      "Date                  \n",
      "2012-05-18     38.2318\n",
      "2012-05-21     34.0300\n",
      "2012-05-22     31.0000\n",
      "2012-05-23     32.0000\n",
      "2012-05-24     33.0300\n"
     ]
    }
   ],
   "source": [
    "# Get Adj Close Price\n",
    "df = df[['Adj. Close']]\n",
    "print(df.head())"
   ]
  },
  {
   "cell_type": "code",
   "execution_count": 91,
   "metadata": {},
   "outputs": [
    {
     "name": "stdout",
     "output_type": "stream",
     "text": [
      "            Adj. Close  Prediction\n",
      "Date                              \n",
      "2018-03-21      169.39      159.39\n",
      "2018-03-22      164.89      160.06\n",
      "2018-03-23      159.39      152.19\n",
      "2018-03-26      160.06         NaN\n",
      "2018-03-27      152.19         NaN\n"
     ]
    }
   ],
   "source": [
    "#Predict 'forecast_out' days out in the future\n",
    "forecast_out = 2\n",
    "# Create another column (Dependent Variable) and shifted 'forecast_out' units up\n",
    "df['Prediction'] = df[['Adj. Close']].shift(-forecast_out)\n",
    "print(df.tail())\n"
   ]
  },
  {
   "cell_type": "code",
   "execution_count": 92,
   "metadata": {},
   "outputs": [
    {
     "name": "stdout",
     "output_type": "stream",
     "text": [
      "[[ 38.2318]\n",
      " [ 34.03  ]\n",
      " [ 31.    ]\n",
      " ...\n",
      " [169.39  ]\n",
      " [164.89  ]\n",
      " [159.39  ]]\n"
     ]
    }
   ],
   "source": [
    "# Create an independent data set (X)\n",
    "# Convert df to a numpy array\n",
    "X = np.array(df.drop(['Prediction'],1))\n",
    "#Remove the last 'forecast_out' rows\n",
    "X = X[:-forecast_out]\n",
    "print(X)\n"
   ]
  },
  {
   "cell_type": "code",
   "execution_count": 93,
   "metadata": {},
   "outputs": [
    {
     "name": "stdout",
     "output_type": "stream",
     "text": [
      "[ 31.    32.    33.03 ... 159.39 160.06 152.19]\n"
     ]
    }
   ],
   "source": [
    "# Create the dependent data set(Y)\n",
    "#Convert df to a numpy array(All of values including the NaNs)\n",
    "Y = np.array(df['Prediction'])\n",
    "#Get all of the Y values except the last 'forecast_out' rows\n",
    "Y = Y[:-forecast_out]\n",
    "print(Y)"
   ]
  },
  {
   "cell_type": "code",
   "execution_count": 94,
   "metadata": {},
   "outputs": [],
   "source": [
    "# Split Data into 80% training and 20% test\n",
    "x_train, x_test, y_train, y_test = train_test_split(X,Y, test_size=0.2)"
   ]
  },
  {
   "cell_type": "code",
   "execution_count": 95,
   "metadata": {},
   "outputs": [
    {
     "data": {
      "text/plain": [
       "SVR(C=1000.0, cache_size=200, coef0=0.0, degree=3, epsilon=0.1, gamma=0.1,\n",
       "    kernel='rbf', max_iter=-1, shrinking=True, tol=0.001, verbose=False)"
      ]
     },
     "execution_count": 95,
     "metadata": {},
     "output_type": "execute_result"
    }
   ],
   "source": [
    "# Create and train the Support Vector Machine (Regression Model)\n",
    "svr_rbf = SVR(kernel = 'rbf', C=1e3, gamma=0.1)\n",
    "svr_rbf.fit(x_train, y_train)"
   ]
  },
  {
   "cell_type": "code",
   "execution_count": 96,
   "metadata": {},
   "outputs": [
    {
     "name": "stdout",
     "output_type": "stream",
     "text": [
      "svm confidence:  0.9975767731994788\n"
     ]
    }
   ],
   "source": [
    "# Testing Model: Score returns the coefficent of determination R^2 of the prediction.\n",
    "# The best possible score is 1.0\n",
    "svm_confidence = svr_rbf.score(x_test,y_test)\n",
    "print(\"svm confidence: \", svm_confidence)"
   ]
  },
  {
   "cell_type": "code",
   "execution_count": 97,
   "metadata": {},
   "outputs": [
    {
     "data": {
      "text/plain": [
       "LinearRegression(copy_X=True, fit_intercept=True, n_jobs=None, normalize=False)"
      ]
     },
     "execution_count": 97,
     "metadata": {},
     "output_type": "execute_result"
    }
   ],
   "source": [
    "# Create and train the Linear Regression Model\n",
    "linear_regression = LinearRegression()\n",
    "# Train Model\n",
    "linear_regression.fit(x_train,y_train)"
   ]
  },
  {
   "cell_type": "code",
   "execution_count": 98,
   "metadata": {},
   "outputs": [
    {
     "name": "stdout",
     "output_type": "stream",
     "text": [
      "lr confidence:  0.9982255247481733\n"
     ]
    }
   ],
   "source": [
    "# Test the Linear Regression Model\n",
    "# Testing Model: Score returns the coefficent of determination R^2 of the prediction.\n",
    "# The best possible score is 1.0\n",
    "linear_regression_confidence = linear_regression.score(x_test,y_test)\n",
    "print(\"lr confidence: \", linear_regression_confidence)"
   ]
  },
  {
   "cell_type": "code",
   "execution_count": 99,
   "metadata": {},
   "outputs": [
    {
     "name": "stdout",
     "output_type": "stream",
     "text": [
      "[[160.06]\n",
      " [152.19]]\n"
     ]
    }
   ],
   "source": [
    "# Set x_forecast = to last 30 rows of the orginal data set (Adj. close)\n",
    "x_forecast = np.array(df.drop(['Prediction'],1))[-forecast_out:]\n",
    "print(x_forecast)"
   ]
  },
  {
   "cell_type": "code",
   "execution_count": 100,
   "metadata": {},
   "outputs": [
    {
     "name": "stdout",
     "output_type": "stream",
     "text": [
      "Linear Regression Model:\n",
      "[160.17004993 152.30777958]\n",
      "\n",
      "SVM Regressor Model:\n",
      "[163.09813574 151.63924113]\n"
     ]
    }
   ],
   "source": [
    "# Print linear_regression model predictions\n",
    "linear_regression_prediction = linear_regression.predict(x_forecast)\n",
    "print(\"Linear Regression Model:\")\n",
    "print(linear_regression_prediction)\n",
    "\n",
    "print() #gap\n",
    "\n",
    "print(\"SVM Regressor Model:\")\n",
    "#Print svm regressor model predictions\n",
    "svm_prediction = svr_rbf.predict(x_forecast)\n",
    "print(svm_prediction)"
   ]
  },
  {
   "cell_type": "code",
   "execution_count": null,
   "metadata": {},
   "outputs": [],
   "source": []
  }
 ],
 "metadata": {
  "kernelspec": {
   "display_name": "Python 3",
   "language": "python",
   "name": "python3"
  },
  "language_info": {
   "codemirror_mode": {
    "name": "ipython",
    "version": 3
   },
   "file_extension": ".py",
   "mimetype": "text/x-python",
   "name": "python",
   "nbconvert_exporter": "python",
   "pygments_lexer": "ipython3",
   "version": "3.7.4"
  }
 },
 "nbformat": 4,
 "nbformat_minor": 2
}
